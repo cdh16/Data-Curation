{
  "nbformat": 4,
  "nbformat_minor": 0,
  "metadata": {
    "colab": {
      "provenance": []
    },
    "kernelspec": {
      "name": "python3",
      "display_name": "Python 3"
    },
    "language_info": {
      "name": "python"
    }
  },
  "cells": [
    {
      "cell_type": "code",
      "source": [
        "import subprocess\n",
        "import os\n",
        "import cv2\n",
        "from google.colab.patches import cv2_imshow\n",
        "\n",
        "\n",
        "def extract_frames(bunny):\n",
        "    cap = cv2.VideoCapture(bunny)\n",
        "    frame_count = 0\n",
        "\n",
        "    while True:\n",
        "        ret, frame = cap.read()\n",
        "        if not ret:\n",
        "            break\n",
        "        # Save the frame as an image\n",
        "        cv2_imshow(frame)\n",
        "        cv2.imwrite(f'frame_{frame_count}.jpg', frame)\n",
        "        frame_count += 1\n",
        "\n",
        "        # Press 'q' to exit early (note: this won't work in Colab's notebook environment)\n",
        "        if cv2.waitKey(1) & 0xFF == ord('q'):\n",
        "            break\n",
        "\n",
        "    # Release the video capture\n",
        "    cap.release()\n",
        "    cv2.destroyAllWindows()\n"
      ],
      "metadata": {
        "id": "B_x29mW2FmbO"
      },
      "execution_count": null,
      "outputs": []
    },
    {
      "cell_type": "code",
      "source": [
        "# 2. Convert video file from one format to another using FFmpeg\n",
        "def convert_video_format(input_file, output_file):\n",
        "    subprocess.run(f'ffmpeg -i {input_file} {output_file}', shell=True)"
      ],
      "metadata": {
        "id": "WgNO3be6eJH9"
      },
      "execution_count": null,
      "outputs": []
    },
    {
      "cell_type": "code",
      "source": [
        "# 3. Create a migration pipeline for video data\n",
        "def migrate_video_data(input_file, output_file):\n",
        "    # Extract frames from video file\n",
        "    extract_frames(input_file)\n",
        "\n",
        "    # Process frames (resize, apply filters)\n",
        "    processed_frames = []\n",
        "    for i in range(10):  # Process only 10 frames for demonstration\n",
        "        frame = cv2.imread(f'frame_{i}.jpg')\n",
        "        frame = cv2.resize(frame, (640, 480))  # Resize frame\n",
        "        frame = cv2.GaussianBlur(frame, (5, 5), 0)  # Apply Gaussian blur\n",
        "        processed_frames.append(frame)\n",
        "\n",
        "    # Save processed frames as a new video file\n",
        "    fourcc = cv2.VideoWriter_fourcc(*'XVID')\n",
        "    out = cv2.VideoWriter(output_file, fourcc, 30.0, (640, 480))\n",
        "    for frame in processed_frames:\n",
        "        out.write(frame)\n",
        "    out.release()"
      ],
      "metadata": {
        "id": "AFfsgGYweOk7"
      },
      "execution_count": null,
      "outputs": []
    },
    {
      "cell_type": "code",
      "source": [
        "# Test the pipeline\n",
        "input_file = 'bunny.mp4'\n",
        "output_file = 'processed_video.avi'\n",
        "migrate_video_data(input_file, output_file)\n",
        "\n",
        "from google.colab import files\n",
        "files.download('processed_video.avi')"
      ],
      "metadata": {
        "id": "dedeAZ-DeVQr"
      },
      "execution_count": null,
      "outputs": []
    },
    {
      "cell_type": "code",
      "source": [
        "# Usage\n",
        "extract_frames('bunny.mp4')\n",
        "\n",
        "def process_frames_and_save(output_file):\n",
        "    processed_frames = []\n",
        "    frame_count = 0\n",
        "\n",
        "    # Process all frames by checking if frame files exist in sequence\n",
        "    while True:\n",
        "        frame_path = f'frame_{frame_count}.jpg'\n",
        "\n",
        "        # Stop if there are no more frames\n",
        "        if not os.path.exists(frame_path):\n",
        "            break\n",
        "\n",
        "        frame = cv2.imread(frame_path)\n",
        "        if frame is None:\n",
        "            print(f\"Warning: {frame_path} could not be loaded.\")\n",
        "            frame_count += 1\n",
        "            continue\n",
        "\n",
        "        # Resize and process the frame\n",
        "        frame = cv2.resize(frame, (640, 480))  # Resize frame\n",
        "        frame = cv2.GaussianBlur(frame, (5, 5), 0)  # Apply Gaussian blur\n",
        "        processed_frames.append(frame)\n",
        "        frame_count += 1\n",
        "\n",
        "    print(f\"Number of processed frames: {len(processed_frames)}\")\n",
        "\n",
        "    if not processed_frames:\n",
        "        print(\"No frames to process.\")\n",
        "        return\n",
        "\n",
        "    # Initialize VideoWriter only if frames are available\n",
        "    fourcc = cv2.VideoWriter_fourcc(*'XVID')\n",
        "    out = cv2.VideoWriter(output_file, fourcc, 30.0, (640, 480))\n",
        "\n",
        "    for frame in processed_frames:\n",
        "        out.write(frame)\n",
        "\n",
        "    out.release()\n",
        "    print(f\"Processing complete. Video saved as {output_file}. Size: {os.path.getsize(output_file)} bytes\")\n",
        "\n"
      ],
      "metadata": {
        "id": "d-EPeaetdekt"
      },
      "execution_count": null,
      "outputs": []
    },
    {
      "cell_type": "code",
      "source": [
        "# Usage example\n",
        "input_video = 'bunny.mp4'  # Ensure this file is uploaded\n",
        "output_video = 'processed_video.avi'\n",
        "extract_frames(input_video)\n",
        "process_frames_and_save(output_video)\n",
        "\n",
        "# Check the output file\n",
        "if os.path.exists(output_video) and os.path.getsize(output_video) > 0:\n",
        "    print(f\"Output file {output_video} successfully created and has a size of {os.path.getsize(output_video)} bytes.\")\n",
        "else:\n",
        "    print(f\"Failed to create output file {output_video} or it is empty.\")\n",
        "\n",
        "\n",
        "from google.colab import files\n",
        "files.download('processed_video.avi')"
      ],
      "metadata": {
        "id": "6XN1tchCdez1"
      },
      "execution_count": null,
      "outputs": []
    }
  ]
}