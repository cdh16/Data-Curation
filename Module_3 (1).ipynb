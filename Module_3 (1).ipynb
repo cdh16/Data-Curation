{
  "nbformat": 4,
  "nbformat_minor": 0,
  "metadata": {
    "colab": {
      "provenance": []
    },
    "kernelspec": {
      "name": "python3",
      "display_name": "Python 3"
    },
    "language_info": {
      "name": "python"
    }
  },
  "cells": [
    {
      "cell_type": "code",
      "source": [
        "import spacy\n",
        "import pandas as pd"
      ],
      "metadata": {
        "id": "unpeXenwi7L6"
      },
      "execution_count": null,
      "outputs": []
    },
    {
      "cell_type": "code",
      "source": [
        "nlp = spacy.load(\"en_core_web_sm\")"
      ],
      "metadata": {
        "id": "tuGHje1pjOdq"
      },
      "execution_count": null,
      "outputs": []
    },
    {
      "cell_type": "code",
      "source": [
        "# Load the unstructured dataset (assuming it's in a text file)\n",
        "# For demonstration purposes, let's create a sample dataset\n",
        "data = [\n",
        "    \"Apple is looking at buying U.K. startup for $1 billion.\",\n",
        "    \"San Francisco considers banning sidewalk delivery robots.\",\n",
        "    \"London is a big city in the United Kingdom.\",\n",
        "    \"Tesla cars are manufactured in California.\"\n",
        "]\n",
        "\n",
        "# Display the dataset\n",
        "print(\"Unstructured Dataset:\")\n",
        "for i, text in enumerate(data, 1):\n",
        "    print(f\"{i}: {text}\")"
      ],
      "metadata": {
        "colab": {
          "base_uri": "https://localhost:8080/"
        },
        "id": "j4QiX9BOtwTo",
        "outputId": "1ebab5bb-07ec-4485-fa11-b43710922183"
      },
      "execution_count": null,
      "outputs": [
        {
          "output_type": "stream",
          "name": "stdout",
          "text": [
            "Unstructured Dataset:\n",
            "1: Apple is looking at buying U.K. startup for $1 billion.\n",
            "2: San Francisco considers banning sidewalk delivery robots.\n",
            "3: London is a big city in the United Kingdom.\n",
            "4: Tesla cars are manufactured in California.\n"
          ]
        }
      ]
    },
    {
      "cell_type": "code",
      "source": [
        "# Annotate the data\n",
        "annotated_data = []\n",
        "\n",
        "for doc in nlp.pipe(data):\n",
        "    entities = [(ent.text, ent.label_) for ent in doc.ents]\n",
        "    annotated_data.append({\n",
        "        \"Text\": doc.text,\n",
        "        \"Entities\": entities\n",
        "    })\n",
        "\n",
        "# Display the annotated data\n",
        "print(\"\\nAnnotated and Tagged Data:\")\n",
        "for i, entry in enumerate(annotated_data, 1):\n",
        "    print(f\"{i}: {entry}\")"
      ],
      "metadata": {
        "colab": {
          "base_uri": "https://localhost:8080/"
        },
        "id": "9j0K1Fdot4Kv",
        "outputId": "be772ba8-8091-4c78-8fa0-eb71ebd46385"
      },
      "execution_count": null,
      "outputs": [
        {
          "output_type": "stream",
          "name": "stdout",
          "text": [
            "\n",
            "Annotated and Tagged Data:\n",
            "1: {'Text': 'Apple is looking at buying U.K. startup for $1 billion.', 'Entities': [('Apple', 'ORG'), ('U.K.', 'GPE'), ('$1 billion', 'MONEY')]}\n",
            "2: {'Text': 'San Francisco considers banning sidewalk delivery robots.', 'Entities': [('San Francisco', 'GPE')]}\n",
            "3: {'Text': 'London is a big city in the United Kingdom.', 'Entities': [('London', 'GPE'), ('the United Kingdom', 'GPE')]}\n",
            "4: {'Text': 'Tesla cars are manufactured in California.', 'Entities': [('Tesla', 'ORG'), ('California', 'GPE')]}\n"
          ]
        }
      ]
    },
    {
      "cell_type": "code",
      "source": [
        "import spacy\n",
        "\n",
        "# Load SpaCy's language model\n",
        "nlp = spacy.load(\"en_core_web_sm\")\n",
        "\n",
        "# Read the content of the uploaded file\n",
        "filename = '53294.txt'\n",
        "with open(filename, 'r') as file:\n",
        "    data = file.read()"
      ],
      "metadata": {
        "id": "PTCG_CxK24AI"
      },
      "execution_count": null,
      "outputs": []
    },
    {
      "cell_type": "code",
      "source": [
        "# Split the text into sentences or paragraphs (you can adjust as needed)\n",
        "text_data = [sentence for sentence in data.split(\"\\n\") if sentence.strip()]"
      ],
      "metadata": {
        "id": "hfK5FTUd3B8-"
      },
      "execution_count": null,
      "outputs": []
    },
    {
      "cell_type": "code",
      "source": [
        "# Annotate the data\n",
        "annotated_data = []\n",
        "\n",
        "# Process each segment using nlp.pipe for efficiency\n",
        "for doc in nlp.pipe(text_data):\n",
        "    entities = [(ent.text, ent.label_) for ent in doc.ents]\n",
        "    annotated_data.append({\n",
        "        \"Text\": doc.text,\n",
        "        \"Entities\": entities\n",
        "    })"
      ],
      "metadata": {
        "id": "ZrxI-98l3FJ-"
      },
      "execution_count": null,
      "outputs": []
    },
    {
      "cell_type": "code",
      "source": [
        "# Display the annotated data\n",
        "print(\"\\nAnnotated and Tagged Data:\")\n",
        "for i, entry in enumerate(annotated_data, 1):\n",
        "    print(f\"{i}: {entry}\")"
      ],
      "metadata": {
        "colab": {
          "base_uri": "https://localhost:8080/"
        },
        "id": "dDU3cWs439rv",
        "outputId": "dbdc3a43-8afe-4132-fb02-ea8d1bd21c6e"
      },
      "execution_count": null,
      "outputs": [
        {
          "output_type": "stream",
          "name": "stdout",
          "text": [
            "\n",
            "Annotated and Tagged Data:\n",
            "1: {'Text': 'Jim De Arras (jmd@cube.handheld.com) wrote:', 'Entities': [('Jim De Arras', 'PERSON')]}\n",
            "2: {'Text': ': > Last year the US suffered almost 10,000 wrongful or accidental', 'Entities': [('Last year', 'DATE'), ('US', 'GPE'), ('almost 10,000', 'CARDINAL')]}\n",
            "3: {'Text': ': > deaths by handguns alone (FBI statistics).  In the same year, the UK', 'Entities': [('FBI', 'ORG'), ('the same year', 'DATE'), ('UK', 'GPE')]}\n",
            "4: {'Text': ': > suffered 35 such deaths (Scotland Yard statistics).  The population', 'Entities': [('35', 'CARDINAL'), ('Scotland Yard', 'ORG')]}\n",
            "5: {'Text': ': > of the UK is about 1/5 that of the US (10,000 / (35 * 5)).  Weighted', 'Entities': [('UK', 'GPE'), ('about 1/5', 'CARDINAL'), ('US', 'GPE'), ('10,000', 'CARDINAL'), ('35', 'CARDINAL'), ('Weighted', 'ORG')]}\n",
            "6: {'Text': ': > for population, the US has 57x as many handgun-related deaths as the', 'Entities': [('US', 'GPE'), ('57x', 'DATE')]}\n",
            "7: {'Text': \": > UK.  And, no, the Brits don't make up for this by murdering 57x as\", 'Entities': [('UK', 'GPE'), ('Brits', 'NORP'), ('57x', 'DATE')]}\n",
            "8: {'Text': ': > many people with baseball bats.', 'Entities': []}\n",
            "9: {'Text': \": You just can't compare this way!  All homicides must be shown, per capita, not  \", 'Entities': []}\n",
            "10: {'Text': ': just handguns.  The availability of them in the USA makes them the preferred  ', 'Entities': [('USA', 'GPE')]}\n",
            "11: {'Text': ': murder weapon, but ban them, and some other weapon will step in as the  ', 'Entities': []}\n",
            "12: {'Text': ': favorite.', 'Entities': []}\n",
            "13: {'Text': 'As a \"favorite\", sure.  As lethal, not likely.  A study of violence in', 'Entities': []}\n",
            "14: {'Text': 'Chicago produced this table:', 'Entities': [('Chicago', 'GPE')]}\n",
            "15: {'Text': '\\t\\tPercentage of Reported Gun and Knife Attacks', 'Entities': []}\n",
            "16: {'Text': '\\t\\t\\t    Resulting in Death', 'Entities': []}\n",
            "17: {'Text': '\\tWeapon\\t\\t\\t\\tDeaths As Percentage of Attacks', 'Entities': []}\n",
            "18: {'Text': '\\t---------------------------------------------------------------', 'Entities': []}\n",
            "19: {'Text': '\\tKnives (16,518 total attacks)\\t\\t 2.4', 'Entities': [('Knives', 'ORG'), ('16,518', 'CARDINAL'), ('2.4', 'CARDINAL')]}\n",
            "20: {'Text': '\\tGuns (6,350 total attacks)\\t\\t12.2', 'Entities': [('6,350', 'CARDINAL'), ('12.2', 'CARDINAL')]}\n",
            "21: {'Text': '\\tSource: Firearms and Violence in American Life', 'Entities': []}\n",
            "22: {'Text': 'It might be contended that if gun murderers were deprived of guns', 'Entities': []}\n",
            "23: {'Text': 'that they would find a way to kill as often with knives.  If this were', 'Entities': []}\n",
            "24: {'Text': 'so, knife attacks in cities where guns were widely used in homicide', 'Entities': []}\n",
            "25: {'Text': 'would be expected to show a low fatality rate, and knife attacks in', 'Entities': []}\n",
            "26: {'Text': 'cities where guns were not so widely used (like Vancouver) would show', 'Entities': [('Vancouver', 'GPE')]}\n",
            "27: {'Text': \"a higher fatality rate.  But the Nat'l Commission on the Causes and\", 'Entities': [(\"the Nat'l Commission\", 'ORG'), ('Causes', 'NORP')]}\n",
            "28: {'Text': 'Prevention of Violence Task Force analyzed the data and found this', 'Entities': []}\n",
            "29: {'Text': 'not to be the case.  It appeared to them that as the number of knife', 'Entities': []}\n",
            "30: {'Text': 'attacks increased in relation to the number of firearms attacks', 'Entities': []}\n",
            "31: {'Text': '(which presumably happened where guns were less available to assailants),', 'Entities': []}\n",
            "32: {'Text': 'the proportion of FATAL knife attacks did NOT increase relative to the', 'Entities': [('FATAL', 'ORG')]}\n",
            "33: {'Text': 'proportion of gun attacks.  In fact, the reverse was true.', 'Entities': []}\n",
            "34: {'Text': 'What was found was that most homicides did not show a determination on', 'Entities': []}\n",
            "35: {'Text': 'the part of the assailant to kill.  Fatalities caused by knife tended', 'Entities': [('Fatalities', 'PERSON')]}\n",
            "36: {'Text': 'to show a single-mindedness on the part of the assailant to do grave', 'Entities': []}\n",
            "37: {'Text': 'physical injury: multiple stabs wounds, wounds concentrated about the', 'Entities': []}\n",
            "38: {'Text': 'head neck and chest, etc.  Most gun homicides did not show this', 'Entities': []}\n",
            "39: {'Text': 'pattern.  Rather, more fatal attacks were committed during a moment of', 'Entities': []}\n",
            "40: {'Text': 'rage and not the focused intent to kill the victim.', 'Entities': []}\n",
            "41: {'Text': '\\tSource: Report on Firearms and Violence', 'Entities': []}\n",
            "42: {'Text': ': Then, since England != USA (my ancestors left because of the oppression) you  ', 'Entities': [('England', 'GPE'), ('USA', 'GPE')]}\n",
            "43: {'Text': ': must compare England before strict gun laws to England after strict gun laws to  ', 'Entities': [('England', 'GPE'), ('England', 'GPE')]}\n",
            "44: {'Text': ': be able to draw any meaning at all.  England has essentially legalized drugs,  ', 'Entities': [('England', 'GPE')]}\n",
            "45: {'Text': ': so there are no drug gangs battling for turf, etc., there.  If you drop out the  ', 'Entities': []}\n",
            "46: {'Text': ': drug related killings here, the USA would look a whole lot more peaceful.', 'Entities': [('USA', 'GPE')]}\n",
            "47: {'Text': \"There are a lot of factors which make a difference.  Actually, I'm not\", 'Entities': []}\n",
            "48: {'Text': 'fond of making ANY kind of social parallels between Europeans and', 'Entities': [('Europeans', 'NORP')]}\n",
            "49: {'Text': 'Americans. There are more cultural, beahvioral and economic', 'Entities': [('Americans', 'NORP')]}\n",
            "50: {'Text': 'differences between us than similarities.  I just sort of found', 'Entities': []}\n",
            "51: {'Text': 'myself backed into that corner over the last couple of weeks.  I', 'Entities': [('the last couple of weeks', 'DATE')]}\n",
            "52: {'Text': \"don't think we could ever attain the low levels of European violent\", 'Entities': [('European', 'NORP')]}\n",
            "53: {'Text': 'crime here in the US, whether we banned guns or required every', 'Entities': [('US', 'GPE')]}\n",
            "54: {'Text': 'law-abiding citizen to carry a loaded Uzi.', 'Entities': [('Uzi', 'LOC')]}\n",
            "55: {'Text': 'On the other hand, we can draw lessons from neighbors who are more', 'Entities': []}\n",
            "56: {'Text': 'culturally similar, namely the Canadians.  In fact, an exhaustive,', 'Entities': [('Canadians', 'NORP')]}\n",
            "57: {'Text': 'seven-year study has already been done of the respective crime rates', 'Entities': [('seven-year', 'DATE')]}\n",
            "58: {'Text': 'of Vancouver, British Columbia and Seattle, Washington... cities', 'Entities': [('Vancouver', 'GPE'), ('British Columbia', 'GPE'), ('Seattle', 'GPE'), ('Washington', 'GPE')]}\n",
            "59: {'Text': 'with roughly the same population, urban economy, geography', 'Entities': []}\n",
            "60: {'Text': 'and crime but with decidedly different approaches to gun control.', 'Entities': []}\n",
            "61: {'Text': 'In Seattle, handguns may be purchased legally for self-defense.  After', 'Entities': [('Seattle', 'GPE')]}\n",
            "62: {'Text': 'a 30-day waiting period, a permit can be obtained to carry a concealed', 'Entities': [('30-day', 'DATE')]}\n",
            "63: {'Text': 'weapon.  The recreational use of handguns is minimally restricted.', 'Entities': []}\n",
            "64: {'Text': 'In Vancouver, self-defense is not considered a valid or legal reason', 'Entities': [('Vancouver', 'GPE')]}\n",
            "65: {'Text': 'to purchase a handgun.  Concealed weapons are not permitted.', 'Entities': []}\n",
            "66: {'Text': 'Recreational uses of handguns (target shooting, collecting) are', 'Entities': []}\n",
            "67: {'Text': 'regulated by the province.  Purchase of a handgun requires a', 'Entities': []}\n",
            "68: {'Text': 'restricted-weapons permit.  A permit to carry may be obtained in', 'Entities': []}\n",
            "69: {'Text': 'order to transport the weapon to licensed shooting clubs.  Handguns', 'Entities': []}\n",
            "70: {'Text': 'transported by vehicle must be stored in the trunk in a locked box.', 'Entities': []}\n",
            "71: {'Text': 'In short, gun control but not unreasonably so.', 'Entities': []}\n",
            "72: {'Text': 'Both cities aggressively enforce their gun laws.  Convictions for', 'Entities': []}\n",
            "73: {'Text': 'gun-related offenses carry similar penalties.  The researchers', 'Entities': []}\n",
            "74: {'Text': 'studied all cases of robbery, assault (simple and aggravated),', 'Entities': []}\n",
            "75: {'Text': 'burglary and homicides occurring in Seattle and Vancouver from', 'Entities': [('Seattle', 'GPE'), ('Vancouver', 'GPE')]}\n",
            "76: {'Text': '1/1/80 to 12/31/86. In defining the cases, they used the same', 'Entities': [('1/1/80 to 12/31/86', 'CARDINAL')]}\n",
            "77: {'Text': \"standard: the FBI's Unified Crime Report.\", 'Entities': [('FBI', 'ORG'), ('Unified Crime Report', 'ORG')]}\n",
            "78: {'Text': 'Results: during the seven-year study the annual rate of robbery in', 'Entities': [('seven-year', 'DATE'), ('annual', 'DATE')]}\n",
            "79: {'Text': 'Seattle was found to be only slightly higher than that in Vancouver', 'Entities': [('Seattle', 'GPE'), ('Vancouver', 'GPE')]}\n",
            "80: {'Text': '(1.09 / 1.11).  Burglaries occurred at nearly identical rates (.99).', 'Entities': [('1.09 / 1.11', 'DATE')]}\n",
            "81: {'Text': '18,925 assaults were recorded in Seattle versus 12,034 in', 'Entities': [('18,925', 'CARDINAL'), ('Seattle', 'GPE'), ('12,034', 'CARDINAL')]}\n",
            "82: {'Text': 'Vancouver.  The risk of being a victim of a simple assault in', 'Entities': []}\n",
            "83: {'Text': 'Seattle was found to be only slightly higher than Vancouver (1.18 /', 'Entities': [('Seattle', 'GPE'), ('Vancouver', 'GPE'), ('1.18', 'CARDINAL')]}\n",
            "84: {'Text': '1.15) and the risk of aggravated assault was also slightly higher', 'Entities': [('1.15', 'CARDINAL')]}\n",
            "85: {'Text': '(1.16 / 1.12).  However, when aggravated assaults were subdivided by', 'Entities': [('1.16 / 1.12', 'CARDINAL')]}\n",
            "86: {'Text': 'weapon and the mechanism of assault, a clear pattern emerged.', 'Entities': []}\n",
            "87: {'Text': 'Although both cities reported nearly identical rates of aggravated', 'Entities': []}\n",
            "88: {'Text': 'assault involving knives and other dangerous weapons, firearms were', 'Entities': []}\n",
            "89: {'Text': 'far more likely to be used in Seattle.  In fact, 7.7 times as often.', 'Entities': [('Seattle', 'GPE'), ('7.7', 'CARDINAL')]}\n",
            "90: {'Text': 'Over the seven-year study, 388 homicides occurred in Seattle', 'Entities': [('seven-year', 'DATE'), ('388', 'CARDINAL'), ('Seattle', 'GPE')]}\n",
            "91: {'Text': '(11.3 per 100,000) vs. 204 homicides in Vancouver (6.9 per 100,000).', 'Entities': [('11.3', 'CARDINAL'), ('100,000', 'CARDINAL'), ('204', 'CARDINAL'), ('Vancouver', 'GPE'), ('6.9', 'CARDINAL'), ('100,000', 'CARDINAL')]}\n",
            "92: {'Text': 'After adjustment for differences in age and sex among the populations,', 'Entities': []}\n",
            "93: {'Text': 'the relative risk of being a victim of homicide in Seattle, as', 'Entities': [('Seattle', 'GPE')]}\n",
            "94: {'Text': 'compared to Vancouver, was found to be 1.63.', 'Entities': [('Vancouver', 'GPE'), ('1.63', 'CARDINAL')]}\n",
            "95: {'Text': 'When homicides were subdivided by the mechanism of death, the rate', 'Entities': []}\n",
            "96: {'Text': 'of homicide by knives and other weapons (excluding firearms) in', 'Entities': []}\n",
            "97: {'Text': 'Seattle was found to be almost identical to that in Vancouver.', 'Entities': [('Seattle', 'GPE'), ('Vancouver', 'GPE')]}\n",
            "98: {'Text': 'Virtually ALL of the increased risk of death in Seattle was due to', 'Entities': [('Seattle', 'GPE')]}\n",
            "99: {'Text': 'a more than fivefold higher rate of homicide by firearms.  Handguns', 'Entities': []}\n",
            "100: {'Text': 'accounted for roughly 85% of homicides involving firearms.  Handguns', 'Entities': [('roughly 85%', 'PERCENT')]}\n",
            "101: {'Text': 'were 4.8 times more likely to be used in homicides in Seattle than', 'Entities': [('4.8', 'CARDINAL'), ('Seattle', 'GPE')]}\n",
            "102: {'Text': 'in Vancouver.', 'Entities': [('Vancouver', 'GPE')]}\n",
            "103: {'Text': 'The authors of the report also investigated \"legally justifiable\"', 'Entities': []}\n",
            "104: {'Text': 'homicides (self-defense).  Only 32 such homicides occurred during', 'Entities': [('homicides', 'PERSON'), ('Only 32', 'CARDINAL')]}\n",
            "105: {'Text': 'the seven-year study, 11 of which were committed by police.  Only', 'Entities': [('seven-year', 'DATE'), ('11', 'CARDINAL')]}\n",
            "106: {'Text': '21 cases of civilians acting in self-defense occurrred: 17 in', 'Entities': [('21', 'CARDINAL'), ('17', 'CARDINAL')]}\n",
            "107: {'Text': 'Seattle and 4 in Vancouver.  Only 13 involved firearms.  After', 'Entities': [('Seattle', 'GPE'), ('4', 'CARDINAL'), ('Vancouver', 'GPE'), ('Only 13', 'CARDINAL')]}\n",
            "108: {'Text': 'excluding these cases, there was virtually no impact on these', 'Entities': []}\n",
            "109: {'Text': 'earlier findings.', 'Entities': []}\n",
            "110: {'Text': '-------', 'Entities': []}\n",
            "111: {'Text': 'This is, I feel, a very fair report.  One might even make the', 'Entities': []}\n",
            "112: {'Text': 'argument that it is biased against Canada as a whole because', 'Entities': [('Canada', 'GPE')]}\n",
            "113: {'Text': 'Vancouver reports annual rates of homicide two to three times', 'Entities': [('Vancouver', 'GPE'), ('annual', 'DATE'), ('two to three', 'CARDINAL')]}\n",
            "114: {'Text': 'that of Ottawa, Calgary and Toronto while Seattle reports', 'Entities': [('Ottawa', 'GPE'), ('Calgary', 'GPE'), ('Toronto', 'GPE'), ('Seattle', 'GPE')]}\n",
            "115: {'Text': 'annual homicide rates only half to two-thirds that of NYC,', 'Entities': [('annual', 'DATE'), ('only half to two-thirds', 'CARDINAL'), ('NYC', 'LOC')]}\n",
            "116: {'Text': 'Chicago, Los Angeles and Houston.', 'Entities': [('Chicago', 'GPE'), ('Los Angeles', 'GPE'), ('Houston', 'GPE')]}\n",
            "117: {'Text': 'Critics of handgun control always argue that limited legal access', 'Entities': []}\n",
            "118: {'Text': 'to handguns will have little effect on the rates of homicide because', 'Entities': []}\n",
            "119: {'Text': 'persons intent on killing others will only try harder to acquire a', 'Entities': []}\n",
            "120: {'Text': 'gun or will kill by other means.  This report shows differently.', 'Entities': []}\n",
            "121: {'Text': 'If the rate of homicide in a community were influenced more by', 'Entities': []}\n",
            "122: {'Text': 'the strength of intent than by the availability of weapons, we', 'Entities': []}\n",
            "123: {'Text': 'could expect the rate of homicides by weapons other than guns to', 'Entities': []}\n",
            "124: {'Text': 'be higher in Vancouver than in Seattle.  However, during the study', 'Entities': [('Vancouver', 'GPE'), ('Seattle', 'GPE')]}\n",
            "125: {'Text': \"interval, Vancouver's rate of homicide by weapons other than guns\", 'Entities': [('Vancouver', 'GPE')]}\n",
            "126: {'Text': 'was not significantly higher than that in Seattle, suggesting that', 'Entities': [('Seattle', 'GPE')]}\n",
            "127: {'Text': 'few would-be assailants switched to homicide by other methods.', 'Entities': []}\n",
            "128: {'Text': 'As well, ready access to handguns for self-defense by law-abiding', 'Entities': []}\n",
            "129: {'Text': 'citizens was not endorsed in this report.  Although Seattle did', 'Entities': [('Seattle', 'GPE')]}\n",
            "130: {'Text': 'experience a higher rate of firearm death for self-defense, these', 'Entities': []}\n",
            "131: {'Text': 'cases accounted for less than 4% of the homicides in both cities', 'Entities': [('less than 4%', 'PERCENT')]}\n",
            "132: {'Text': 'during the course of the study period.  And, as was reported,', 'Entities': []}\n",
            "133: {'Text': \"Seattle apparently didn't enjoy relief from any crime category\", 'Entities': [('Seattle', 'GPE')]}\n",
            "134: {'Text': 'over Vancouver because citizens may legally arm themselves for', 'Entities': [('Vancouver', 'GPE')]}\n",
            "135: {'Text': 'self-defense.', 'Entities': []}\n",
            "136: {'Text': '\\tHeavily quoted source: Handgun Regulation, Crime,', 'Entities': []}\n",
            "137: {'Text': '\\tAssaults, and Homicide: A Tale of Two Cities.', 'Entities': [('Two', 'CARDINAL')]}\n",
            "138: {'Text': '\\tJohn H. Sloan, Arthur L. Kellerman, Donald T. Reay,', 'Entities': [('John H. Sloan', 'PERSON'), ('Arthur L. Kellerman', 'PERSON'), ('Donald T. Reay', 'PERSON')]}\n",
            "139: {'Text': '\\tJames A. Ferris, Thomas Koepsall, Frederick P. Rivara,', 'Entities': [('James A. Ferris', 'PERSON'), ('Thomas Koepsall', 'PERSON'), ('Frederick P. Rivara', 'PERSON')]}\n",
            "140: {'Text': '\\tCharles Rice, Laurel Gray and James LoGerfo', 'Entities': [('Charles Rice', 'PERSON'), ('Laurel Gray', 'PERSON'), ('James LoGerfo', 'PERSON')]}\n",
            "141: {'Text': '-- ', 'Entities': []}\n",
            "142: {'Text': 'Stephen Manes\\t\\t\\t\\t\\t   manes@magpie.linknet.com', 'Entities': [('Stephen Manes', 'PERSON')]}\n",
            "143: {'Text': 'Manes and Associates\\t\\t\\t\\t   New York, NY, USA  =o&>o', 'Entities': [('Associates', 'ORG'), ('New York', 'GPE'), ('NY', 'GPE'), ('USA', 'GPE')]}\n"
          ]
        }
      ]
    },
    {
      "cell_type": "code",
      "source": [
        "# doing this with one more file from the dataset I found to check my code since I had problems with the previous code\n",
        "#using my own data\n",
        "filename = '53295.txt'\n",
        "with open(filename, 'r') as file:\n",
        "    data2 = file.read()\n",
        "print(data2[:500])  # Print the first 500 characters\n",
        "\n",
        "\n",
        "# Split the text into sentences or paragraphs (you can adjust as needed)\n",
        "text_data2 = [sentence for sentence in data2.split(\"\\n\") if sentence.strip()]"
      ],
      "metadata": {
        "colab": {
          "base_uri": "https://localhost:8080/"
        },
        "id": "8xvnw3AeoKYv",
        "outputId": "0bcdd25e-909d-4004-e909-044751627a7b"
      },
      "execution_count": null,
      "outputs": [
        {
          "output_type": "stream",
          "name": "stdout",
          "text": [
            "\n",
            "Steve Kao (k@hprnd.rose.hp.com) wrote:\n",
            ": Frank Crary posted:\n",
            ": : Sure, but the difference in per-capita crime rates predates the\n",
            ": : gun control laws: The homicide rate in England was a tenth that\n",
            ": : of America, back when anyone in England could buy a gun without\n",
            ": : any paperwork at all.\n",
            "\n",
            ": Steve Manes asks:\n",
            ": > Got a citation for this?\n",
            "\n",
            ": Colin Greenwood from Scotland Yard did a study that showed that gun\n",
            ": control has had no effect on crime or murder rates in the UK.  His book,\n",
            ": _Firearms_\n"
          ]
        }
      ]
    },
    {
      "cell_type": "code",
      "source": [
        "# Annotate the data\n",
        "annotated_data2 = []\n",
        "\n",
        "for doc in nlp.pipe(text_data2):\n",
        "    entities = [(ent.text, ent.label_) for ent in doc.ents]\n",
        "    annotated_data2.append({\n",
        "        \"Text\": doc.text,\n",
        "        \"Entities\": entities\n",
        "    })"
      ],
      "metadata": {
        "id": "FCeivc5hwTkO"
      },
      "execution_count": null,
      "outputs": []
    },
    {
      "cell_type": "code",
      "source": [
        "# Display the annotated data\n",
        "print(\"\\nAnnotated and Tagged Data:\")\n",
        "for i, entry in enumerate(annotated_data2, 1):\n",
        "    print(f\"{i}: {entry}\")"
      ],
      "metadata": {
        "colab": {
          "base_uri": "https://localhost:8080/"
        },
        "id": "yUeql6MmwcCG",
        "outputId": "5646d266-b020-4ea4-fea3-9ae2614f22d6"
      },
      "execution_count": null,
      "outputs": [
        {
          "output_type": "stream",
          "name": "stdout",
          "text": [
            "\n",
            "Annotated and Tagged Data:\n",
            "1: {'Text': 'Steve Kao (k@hprnd.rose.hp.com) wrote:', 'Entities': [('Steve Kao', 'PERSON'), ('k@hprnd.rose.hp.com', 'ORG')]}\n",
            "2: {'Text': ': Frank Crary posted:', 'Entities': [('Frank Crary', 'PERSON')]}\n",
            "3: {'Text': ': : Sure, but the difference in per-capita crime rates predates the', 'Entities': []}\n",
            "4: {'Text': ': : gun control laws: The homicide rate in England was a tenth that', 'Entities': [('England', 'GPE')]}\n",
            "5: {'Text': ': : of America, back when anyone in England could buy a gun without', 'Entities': [('America', 'GPE'), ('England', 'GPE')]}\n",
            "6: {'Text': ': : any paperwork at all.', 'Entities': []}\n",
            "7: {'Text': ': Steve Manes asks:', 'Entities': [('Steve Manes', 'PERSON')]}\n",
            "8: {'Text': ': > Got a citation for this?', 'Entities': []}\n",
            "9: {'Text': ': Colin Greenwood from Scotland Yard did a study that showed that gun', 'Entities': [('Colin Greenwood', 'PERSON'), ('Scotland Yard', 'ORG')]}\n",
            "10: {'Text': ': control has had no effect on crime or murder rates in the UK.  His book,', 'Entities': [('UK', 'GPE')]}\n",
            "11: {'Text': ': _Firearms_Controls_, has been published in London by Keegan Paul (name', 'Entities': [('London', 'GPE'), ('Keegan Paul', 'PERSON')]}\n",
            "12: {'Text': ': may be misspelled).', 'Entities': []}\n",
            "13: {'Text': 'Others dispute that, like Richard Hofstadter, <America As A Gun Culture>,', 'Entities': [('Richard Hofstadter', 'PERSON')]}\n",
            "14: {'Text': \"and Newton and Zimring's <Firearms and Violence in American Life>.  But,\", 'Entities': [('Newton', 'GPE'), ('American Life', 'ORG')]}\n",
            "15: {'Text': 'again, statistics between too dissimilar cultures are difficult to', 'Entities': []}\n",
            "16: {'Text': 'quantify.', 'Entities': []}\n",
            "17: {'Text': \"I don't know how anyone can state that gun control could have NO\", 'Entities': []}\n",
            "18: {'Text': 'effect on homicide rates.  There were over 250 >accidental< handgun', 'Entities': [('250', 'CARDINAL')]}\n",
            "19: {'Text': 'homicides in America in 1990, most with licensed weapons.  More', 'Entities': [('America', 'GPE'), ('1990', 'DATE')]}\n",
            "20: {'Text': 'American children accidentally shot other children last year (15)', 'Entities': [('American', 'NORP'), ('last year', 'DATE')]}\n",
            "21: {'Text': 'than all the handgun homicides in Great Britain.  (Source: National', 'Entities': [('Great Britain', 'GPE')]}\n",
            "22: {'Text': 'Safety Council.  Please... no dictionary arguments about RATES vs', 'Entities': [('Safety Council', 'ORG')]}\n",
            "23: {'Text': \"TOTAL NUMBERS, okay?  They're offered for emphasis, not comparison).\", 'Entities': []}\n",
            "24: {'Text': 'If Mr. Greenwood believes that Brits are much too sober and', 'Entities': [('Greenwood', 'PERSON'), ('Brits', 'NORP')]}\n",
            "25: {'Text': \"coordinated to make such mistakes I'd like to introduce him to my\", 'Entities': []}\n",
            "26: {'Text': 'friend, Amanda from Brighton.  I used to have some pretty nice', 'Entities': [('Amanda', 'GPE'), ('Brighton', 'GPE')]}\n",
            "27: {'Text': \"crystal in my place until she moved in.  I've gotten used to the\", 'Entities': []}\n",
            "28: {'Text': 'snide comments from guests about the clown motif on my rubber', 'Entities': []}\n",
            "29: {'Text': 'wine glasses.', 'Entities': []}\n",
            "30: {'Text': '-- ', 'Entities': []}\n",
            "31: {'Text': 'Stephen Manes\\t\\t\\t\\t\\t   manes@magpie.linknet.com', 'Entities': [('Stephen Manes', 'PERSON')]}\n",
            "32: {'Text': 'Manes and Associates\\t\\t\\t\\t   New York, NY, USA  =o&>o', 'Entities': [('Associates', 'ORG'), ('New York', 'GPE'), ('NY', 'GPE'), ('USA', 'GPE')]}\n"
          ]
        }
      ]
    },
    {
      "cell_type": "markdown",
      "source": [
        "My main observation for this assignmment is that I had to add a step to split the text into a list of sentences to run. I also had issues loading the data in a zip file, even with the help of ChatGPT, so I opted to just pull a couple of text files from the original to work with.\n",
        "\n",
        "I am curious how long the processing of this data would work with a large dataset, but overall this is simple code that accomplishes what would otherwise be a very timeconsuming task."
      ],
      "metadata": {
        "id": "NYHjGCw6wlpW"
      }
    },
    {
      "cell_type": "code",
      "source": [
        "# Save the notebook as .ipynb\n",
        "from google.colab import files\n",
        "import os\n",
        "\n",
        "# Export current notebook's path\n",
        "notebook_name = \"Module_3.ipynb\"\n",
        "os.system(f\"jupyter nbconvert --to html {notebook_name}\")"
      ],
      "metadata": {
        "colab": {
          "base_uri": "https://localhost:8080/"
        },
        "id": "3fiNOy8H4a_u",
        "outputId": "70694e28-6d7f-4962-db42-a72efd74fb38"
      },
      "execution_count": null,
      "outputs": [
        {
          "output_type": "execute_result",
          "data": {
            "text/plain": [
              "0"
            ]
          },
          "metadata": {},
          "execution_count": 16
        }
      ]
    },
    {
      "cell_type": "code",
      "source": [
        "# Download the HTML file\n",
        "html_file = notebook_name.replace(\".ipynb\", \".html\")\n",
        "files.download(html_file)"
      ],
      "metadata": {
        "colab": {
          "base_uri": "https://localhost:8080/",
          "height": 17
        },
        "id": "JctOq1KW4nPO",
        "outputId": "91618b3d-78ce-4571-a3aa-844ecf413114"
      },
      "execution_count": null,
      "outputs": [
        {
          "output_type": "display_data",
          "data": {
            "text/plain": [
              "<IPython.core.display.Javascript object>"
            ],
            "application/javascript": [
              "\n",
              "    async function download(id, filename, size) {\n",
              "      if (!google.colab.kernel.accessAllowed) {\n",
              "        return;\n",
              "      }\n",
              "      const div = document.createElement('div');\n",
              "      const label = document.createElement('label');\n",
              "      label.textContent = `Downloading \"${filename}\": `;\n",
              "      div.appendChild(label);\n",
              "      const progress = document.createElement('progress');\n",
              "      progress.max = size;\n",
              "      div.appendChild(progress);\n",
              "      document.body.appendChild(div);\n",
              "\n",
              "      const buffers = [];\n",
              "      let downloaded = 0;\n",
              "\n",
              "      const channel = await google.colab.kernel.comms.open(id);\n",
              "      // Send a message to notify the kernel that we're ready.\n",
              "      channel.send({})\n",
              "\n",
              "      for await (const message of channel.messages) {\n",
              "        // Send a message to notify the kernel that we're ready.\n",
              "        channel.send({})\n",
              "        if (message.buffers) {\n",
              "          for (const buffer of message.buffers) {\n",
              "            buffers.push(buffer);\n",
              "            downloaded += buffer.byteLength;\n",
              "            progress.value = downloaded;\n",
              "          }\n",
              "        }\n",
              "      }\n",
              "      const blob = new Blob(buffers, {type: 'application/binary'});\n",
              "      const a = document.createElement('a');\n",
              "      a.href = window.URL.createObjectURL(blob);\n",
              "      a.download = filename;\n",
              "      div.appendChild(a);\n",
              "      a.click();\n",
              "      div.remove();\n",
              "    }\n",
              "  "
            ]
          },
          "metadata": {}
        },
        {
          "output_type": "display_data",
          "data": {
            "text/plain": [
              "<IPython.core.display.Javascript object>"
            ],
            "application/javascript": [
              "download(\"download_8e2293a1-9d43-4d51-8fdf-162564ec7e43\", \"Module_3.html\", 309811)"
            ]
          },
          "metadata": {}
        }
      ]
    }
  ]
}