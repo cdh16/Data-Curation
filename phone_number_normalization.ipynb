{
  "nbformat": 4,
  "nbformat_minor": 0,
  "metadata": {
    "colab": {
      "provenance": []
    },
    "kernelspec": {
      "name": "python3",
      "display_name": "Python 3"
    },
    "language_info": {
      "name": "python"
    }
  },
  "cells": [
    {
      "cell_type": "code",
      "execution_count": null,
      "metadata": {
        "id": "_tb6pxl8PPJg"
      },
      "outputs": [],
      "source": [
        "import pandas as pd\n",
        "import re"
      ]
    },
    {
      "cell_type": "code",
      "source": [
        "# Load the dataset into a Pandas DataFrame\n",
        "# download the file from module 04 - CANVAS\n",
        "df = pd.read_csv('file_name.csv')\n",
        "query = df.copy()"
      ],
      "metadata": {
        "id": "yT9bMdC2Qewr"
      },
      "execution_count": null,
      "outputs": []
    },
    {
      "cell_type": "code",
      "source": [
        "query.head()"
      ],
      "metadata": {
        "id": "E1HexunLQr4O"
      },
      "execution_count": null,
      "outputs": []
    },
    {
      "cell_type": "code",
      "source": [
        "query.shape"
      ],
      "metadata": {
        "id": "dWN2mKG3JPcv"
      },
      "execution_count": null,
      "outputs": []
    },
    {
      "cell_type": "code",
      "source": [
        "query.info()"
      ],
      "metadata": {
        "id": "SJtEbDEnS55H"
      },
      "execution_count": null,
      "outputs": []
    },
    {
      "cell_type": "code",
      "source": [
        "# Standardize phone numbers (e.g., remove all non-digit characters)\n",
        "query['PHONE'] = df['PHONE'].apply(lambda x: re.sub(r'\\D', '', str(x)))"
      ],
      "metadata": {
        "id": "oQmwHmgIQwr3"
      },
      "execution_count": null,
      "outputs": []
    },
    {
      "cell_type": "code",
      "source": [
        "query.head()"
      ],
      "metadata": {
        "id": "x_RdNdK1SJQj"
      },
      "execution_count": null,
      "outputs": []
    },
    {
      "cell_type": "code",
      "source": [
        "#remove the rows with numbers with less than 10 digits as we cannot work with them\n",
        "query = query[query['PHONE'].apply(\n",
        "    lambda x: pd.notnull(x) and len(x) >= 10\n",
        ")]"
      ],
      "metadata": {
        "id": "r83EzQtiUnt8"
      },
      "execution_count": null,
      "outputs": []
    },
    {
      "cell_type": "code",
      "source": [
        "# make sure rows were dropped\n",
        "query.shape"
      ],
      "metadata": {
        "id": "q_dD8bvKU2ti"
      },
      "execution_count": null,
      "outputs": []
    },
    {
      "cell_type": "code",
      "source": [
        "# Filter rows where phone numbers have 11 digits and start with '1'\n",
        "phone11 = query[query['PHONE'].apply(\n",
        "    lambda x: pd.notnull(x) and len(str(x).strip()) == 11 and str(x).strip().startswith('1')\n",
        ")]\n",
        "\n",
        "print(phone11)"
      ],
      "metadata": {
        "id": "OvtPWA5Rdvvf"
      },
      "execution_count": null,
      "outputs": []
    },
    {
      "cell_type": "code",
      "source": [
        "# Apply the change only to phone numbers that meet the condition\n",
        "query['PHONE'] = query['PHONE'].apply(\n",
        "    lambda x: str(x)[1:] if pd.notnull(x) and len(str(x).strip()) == 11 and str(x).strip().startswith('1') else str(x)\n",
        ")\n",
        "\n",
        "# Display the updated DataFrame\n",
        "query.head(20)"
      ],
      "metadata": {
        "id": "KW87E4Pgd9Jk"
      },
      "execution_count": null,
      "outputs": []
    },
    {
      "cell_type": "code",
      "source": [
        "# Save the filtered rows to a new CSV file\n",
        "query.to_csv('query.csv', index=False)\n",
        "\n",
        "# Optionally download the file in Google Colab\n",
        "from google.colab import files\n",
        "files.download('query.csv')"
      ],
      "metadata": {
        "id": "FogYFLe-e23l"
      },
      "execution_count": null,
      "outputs": []
    },
    {
      "cell_type": "code",
      "source": [
        "# Filter rows where the phone number more than 10 digits\n",
        "invalid = query[query['PHONE'].apply(lambda x: len(x) > 10)]\n",
        "\n",
        "# Display the result\n",
        "invalid.head()"
      ],
      "metadata": {
        "id": "WHhe37E8TAoo"
      },
      "execution_count": null,
      "outputs": []
    },
    {
      "cell_type": "code",
      "source": [
        "invalid.shape"
      ],
      "metadata": {
        "id": "IeUgcDYVenVU"
      },
      "execution_count": null,
      "outputs": []
    },
    {
      "cell_type": "code",
      "source": [
        "# Save the filtered rows to a new CSV file\n",
        "invalid.to_csv('invalid.csv', index=False)\n",
        "\n",
        "# Optionally download the file in Google Colab\n",
        "from google.colab import files\n",
        "files.download('invalid.csv')"
      ],
      "metadata": {
        "id": "MeqjvVbwTaRA"
      },
      "execution_count": null,
      "outputs": []
    }
  ]
}